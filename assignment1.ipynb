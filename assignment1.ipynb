{
 "cells": [
  {
   "cell_type": "markdown",
   "metadata": {},
   "source": [
    "<h1 text-align=\"center\"><b><i>Practical Data Science</i></b></h1>"
   ]
  },
  {
   "cell_type": "markdown",
   "metadata": {},
   "source": [
    "<h1><b>Task I: Data Preparation</b></h1>"
   ]
  },
  {
   "cell_type": "markdown",
   "metadata": {},
   "source": [
    "<h4><b>1. Importing </b></h4>"
   ]
  },
  {
   "cell_type": "code",
   "execution_count": 2,
   "metadata": {},
   "outputs": [],
   "source": [
    "# Import libraries\n",
    "import pandas as pd\n",
    "import numpy as np\n",
    "from statistics import mean\n",
    "import matplotlib.pyplot as plt"
   ]
  },
  {
   "cell_type": "code",
   "execution_count": 3,
   "metadata": {},
   "outputs": [
    {
     "name": "stdout",
     "output_type": "stream",
     "text": [
      "Original Shape of data: (4119, 21)\n"
     ]
    },
    {
     "data": {
      "text/html": [
       "<div>\n",
       "<style scoped>\n",
       "    .dataframe tbody tr th:only-of-type {\n",
       "        vertical-align: middle;\n",
       "    }\n",
       "\n",
       "    .dataframe tbody tr th {\n",
       "        vertical-align: top;\n",
       "    }\n",
       "\n",
       "    .dataframe thead th {\n",
       "        text-align: right;\n",
       "    }\n",
       "</style>\n",
       "<table border=\"1\" class=\"dataframe\">\n",
       "  <thead>\n",
       "    <tr style=\"text-align: right;\">\n",
       "      <th></th>\n",
       "      <th>age</th>\n",
       "      <th>job</th>\n",
       "      <th>marital</th>\n",
       "      <th>education</th>\n",
       "      <th>default</th>\n",
       "      <th>housing</th>\n",
       "      <th>loan</th>\n",
       "      <th>contact</th>\n",
       "      <th>month</th>\n",
       "      <th>day_of_week</th>\n",
       "      <th>...</th>\n",
       "      <th>campaign</th>\n",
       "      <th>pdays</th>\n",
       "      <th>previous</th>\n",
       "      <th>poutcome</th>\n",
       "      <th>emp.var.rate</th>\n",
       "      <th>cons.price.idx</th>\n",
       "      <th>cons.conf.idx</th>\n",
       "      <th>euribor3m</th>\n",
       "      <th>nr.employed</th>\n",
       "      <th>y</th>\n",
       "    </tr>\n",
       "  </thead>\n",
       "  <tbody>\n",
       "    <tr>\n",
       "      <th>0</th>\n",
       "      <td>30</td>\n",
       "      <td>blue-collar</td>\n",
       "      <td>married</td>\n",
       "      <td>basic.9y</td>\n",
       "      <td>no</td>\n",
       "      <td>yes</td>\n",
       "      <td>no</td>\n",
       "      <td>cellular</td>\n",
       "      <td>may</td>\n",
       "      <td>fri</td>\n",
       "      <td>...</td>\n",
       "      <td>2.0</td>\n",
       "      <td>999</td>\n",
       "      <td>0</td>\n",
       "      <td>nonexistent</td>\n",
       "      <td>-1.8</td>\n",
       "      <td>92.893</td>\n",
       "      <td>-46.2</td>\n",
       "      <td>1.313</td>\n",
       "      <td>5099.1</td>\n",
       "      <td>no</td>\n",
       "    </tr>\n",
       "    <tr>\n",
       "      <th>1</th>\n",
       "      <td>39</td>\n",
       "      <td>services</td>\n",
       "      <td>single</td>\n",
       "      <td>high.school</td>\n",
       "      <td>no</td>\n",
       "      <td>no</td>\n",
       "      <td>no</td>\n",
       "      <td>telephone</td>\n",
       "      <td>may</td>\n",
       "      <td>fri</td>\n",
       "      <td>...</td>\n",
       "      <td>4.0</td>\n",
       "      <td>999</td>\n",
       "      <td>0</td>\n",
       "      <td>nonexistent</td>\n",
       "      <td>1.1</td>\n",
       "      <td>93.994</td>\n",
       "      <td>-36.4</td>\n",
       "      <td>4.855</td>\n",
       "      <td>5191.0</td>\n",
       "      <td>no</td>\n",
       "    </tr>\n",
       "    <tr>\n",
       "      <th>2</th>\n",
       "      <td>25</td>\n",
       "      <td>services</td>\n",
       "      <td>married</td>\n",
       "      <td>high.school</td>\n",
       "      <td>no</td>\n",
       "      <td>yes</td>\n",
       "      <td>no</td>\n",
       "      <td>telephone</td>\n",
       "      <td>jun</td>\n",
       "      <td>wed</td>\n",
       "      <td>...</td>\n",
       "      <td>1.0</td>\n",
       "      <td>999</td>\n",
       "      <td>0</td>\n",
       "      <td>nonexistent</td>\n",
       "      <td>1.4</td>\n",
       "      <td>94.465</td>\n",
       "      <td>-41.8</td>\n",
       "      <td>4.962</td>\n",
       "      <td>5228.1</td>\n",
       "      <td>no</td>\n",
       "    </tr>\n",
       "    <tr>\n",
       "      <th>3</th>\n",
       "      <td>38</td>\n",
       "      <td>services</td>\n",
       "      <td>married</td>\n",
       "      <td>basic.9y</td>\n",
       "      <td>no</td>\n",
       "      <td>unknown</td>\n",
       "      <td>unknown</td>\n",
       "      <td>telephone</td>\n",
       "      <td>jun</td>\n",
       "      <td>fri</td>\n",
       "      <td>...</td>\n",
       "      <td>3.0</td>\n",
       "      <td>999</td>\n",
       "      <td>0</td>\n",
       "      <td>nonexistent</td>\n",
       "      <td>1.4</td>\n",
       "      <td>94.465</td>\n",
       "      <td>-41.8</td>\n",
       "      <td>4.959</td>\n",
       "      <td>5228.1</td>\n",
       "      <td>no</td>\n",
       "    </tr>\n",
       "    <tr>\n",
       "      <th>4</th>\n",
       "      <td>47</td>\n",
       "      <td>admin.</td>\n",
       "      <td>married</td>\n",
       "      <td>university.degree</td>\n",
       "      <td>no</td>\n",
       "      <td>yes</td>\n",
       "      <td>no</td>\n",
       "      <td>cellular</td>\n",
       "      <td>nov</td>\n",
       "      <td>mon</td>\n",
       "      <td>...</td>\n",
       "      <td>1.0</td>\n",
       "      <td>999</td>\n",
       "      <td>0</td>\n",
       "      <td>nonexistent</td>\n",
       "      <td>-0.1</td>\n",
       "      <td>93.200</td>\n",
       "      <td>-42.0</td>\n",
       "      <td>4.191</td>\n",
       "      <td>5195.8</td>\n",
       "      <td>no</td>\n",
       "    </tr>\n",
       "    <tr>\n",
       "      <th>...</th>\n",
       "      <td>...</td>\n",
       "      <td>...</td>\n",
       "      <td>...</td>\n",
       "      <td>...</td>\n",
       "      <td>...</td>\n",
       "      <td>...</td>\n",
       "      <td>...</td>\n",
       "      <td>...</td>\n",
       "      <td>...</td>\n",
       "      <td>...</td>\n",
       "      <td>...</td>\n",
       "      <td>...</td>\n",
       "      <td>...</td>\n",
       "      <td>...</td>\n",
       "      <td>...</td>\n",
       "      <td>...</td>\n",
       "      <td>...</td>\n",
       "      <td>...</td>\n",
       "      <td>...</td>\n",
       "      <td>...</td>\n",
       "      <td>...</td>\n",
       "    </tr>\n",
       "    <tr>\n",
       "      <th>4114</th>\n",
       "      <td>30</td>\n",
       "      <td>admin.</td>\n",
       "      <td>married</td>\n",
       "      <td>basic.6y</td>\n",
       "      <td>no</td>\n",
       "      <td>yes</td>\n",
       "      <td>yes</td>\n",
       "      <td>cellular</td>\n",
       "      <td>jul</td>\n",
       "      <td>thu</td>\n",
       "      <td>...</td>\n",
       "      <td>1.0</td>\n",
       "      <td>999</td>\n",
       "      <td>0</td>\n",
       "      <td>nonexistent</td>\n",
       "      <td>1.4</td>\n",
       "      <td>93.918</td>\n",
       "      <td>-42.7</td>\n",
       "      <td>4.958</td>\n",
       "      <td>5228.1</td>\n",
       "      <td>no</td>\n",
       "    </tr>\n",
       "    <tr>\n",
       "      <th>4115</th>\n",
       "      <td>39</td>\n",
       "      <td>admin.</td>\n",
       "      <td>married</td>\n",
       "      <td>high.school</td>\n",
       "      <td>no</td>\n",
       "      <td>yes</td>\n",
       "      <td>no</td>\n",
       "      <td>telephone</td>\n",
       "      <td>jul</td>\n",
       "      <td>fri</td>\n",
       "      <td>...</td>\n",
       "      <td>1.0</td>\n",
       "      <td>999</td>\n",
       "      <td>0</td>\n",
       "      <td>nonexistent</td>\n",
       "      <td>1.4</td>\n",
       "      <td>93.918</td>\n",
       "      <td>-42.7</td>\n",
       "      <td>4.959</td>\n",
       "      <td>5228.1</td>\n",
       "      <td>no</td>\n",
       "    </tr>\n",
       "    <tr>\n",
       "      <th>4116</th>\n",
       "      <td>27</td>\n",
       "      <td>student</td>\n",
       "      <td>single</td>\n",
       "      <td>high.school</td>\n",
       "      <td>no</td>\n",
       "      <td>no</td>\n",
       "      <td>no</td>\n",
       "      <td>cellular</td>\n",
       "      <td>may</td>\n",
       "      <td>mon</td>\n",
       "      <td>...</td>\n",
       "      <td>2.0</td>\n",
       "      <td>999</td>\n",
       "      <td>1</td>\n",
       "      <td>failure</td>\n",
       "      <td>-1.8</td>\n",
       "      <td>92.893</td>\n",
       "      <td>-46.2</td>\n",
       "      <td>1.354</td>\n",
       "      <td>5099.1</td>\n",
       "      <td>no</td>\n",
       "    </tr>\n",
       "    <tr>\n",
       "      <th>4117</th>\n",
       "      <td>58</td>\n",
       "      <td>admin.</td>\n",
       "      <td>married</td>\n",
       "      <td>high.school</td>\n",
       "      <td>no</td>\n",
       "      <td>no</td>\n",
       "      <td>no</td>\n",
       "      <td>cellular</td>\n",
       "      <td>aug</td>\n",
       "      <td>fri</td>\n",
       "      <td>...</td>\n",
       "      <td>1.0</td>\n",
       "      <td>999</td>\n",
       "      <td>0</td>\n",
       "      <td>nonexistent</td>\n",
       "      <td>1.4</td>\n",
       "      <td>93.444</td>\n",
       "      <td>-36.1</td>\n",
       "      <td>4.966</td>\n",
       "      <td>5228.1</td>\n",
       "      <td>no</td>\n",
       "    </tr>\n",
       "    <tr>\n",
       "      <th>4118</th>\n",
       "      <td>34</td>\n",
       "      <td>management</td>\n",
       "      <td>single</td>\n",
       "      <td>high.school</td>\n",
       "      <td>no</td>\n",
       "      <td>yes</td>\n",
       "      <td>no</td>\n",
       "      <td>cellular</td>\n",
       "      <td>nov</td>\n",
       "      <td>wed</td>\n",
       "      <td>...</td>\n",
       "      <td>1.0</td>\n",
       "      <td>999</td>\n",
       "      <td>0</td>\n",
       "      <td>nonexistent</td>\n",
       "      <td>-0.1</td>\n",
       "      <td>93.200</td>\n",
       "      <td>-42.0</td>\n",
       "      <td>4.120</td>\n",
       "      <td>5195.8</td>\n",
       "      <td>no</td>\n",
       "    </tr>\n",
       "  </tbody>\n",
       "</table>\n",
       "<p>4119 rows × 21 columns</p>\n",
       "</div>"
      ],
      "text/plain": [
       "      age          job  marital          education default  housing     loan  \\\n",
       "0      30  blue-collar  married           basic.9y      no      yes       no   \n",
       "1      39     services   single        high.school      no       no       no   \n",
       "2      25     services  married        high.school      no      yes       no   \n",
       "3      38     services  married           basic.9y      no  unknown  unknown   \n",
       "4      47       admin.  married  university.degree      no      yes       no   \n",
       "...   ...          ...      ...                ...     ...      ...      ...   \n",
       "4114   30       admin.  married           basic.6y      no      yes      yes   \n",
       "4115   39       admin.  married        high.school      no      yes       no   \n",
       "4116   27      student   single        high.school      no       no       no   \n",
       "4117   58       admin.  married        high.school      no       no       no   \n",
       "4118   34   management   single        high.school      no      yes       no   \n",
       "\n",
       "        contact month day_of_week  ...  campaign  pdays  previous  \\\n",
       "0      cellular   may         fri  ...       2.0    999         0   \n",
       "1     telephone   may         fri  ...       4.0    999         0   \n",
       "2     telephone   jun         wed  ...       1.0    999         0   \n",
       "3     telephone   jun         fri  ...       3.0    999         0   \n",
       "4      cellular   nov         mon  ...       1.0    999         0   \n",
       "...         ...   ...         ...  ...       ...    ...       ...   \n",
       "4114   cellular   jul         thu  ...       1.0    999         0   \n",
       "4115  telephone   jul         fri  ...       1.0    999         0   \n",
       "4116   cellular   may         mon  ...       2.0    999         1   \n",
       "4117   cellular   aug         fri  ...       1.0    999         0   \n",
       "4118   cellular   nov         wed  ...       1.0    999         0   \n",
       "\n",
       "         poutcome emp.var.rate  cons.price.idx  cons.conf.idx  euribor3m  \\\n",
       "0     nonexistent         -1.8          92.893          -46.2      1.313   \n",
       "1     nonexistent          1.1          93.994          -36.4      4.855   \n",
       "2     nonexistent          1.4          94.465          -41.8      4.962   \n",
       "3     nonexistent          1.4          94.465          -41.8      4.959   \n",
       "4     nonexistent         -0.1          93.200          -42.0      4.191   \n",
       "...           ...          ...             ...            ...        ...   \n",
       "4114  nonexistent          1.4          93.918          -42.7      4.958   \n",
       "4115  nonexistent          1.4          93.918          -42.7      4.959   \n",
       "4116      failure         -1.8          92.893          -46.2      1.354   \n",
       "4117  nonexistent          1.4          93.444          -36.1      4.966   \n",
       "4118  nonexistent         -0.1          93.200          -42.0      4.120   \n",
       "\n",
       "      nr.employed   y  \n",
       "0          5099.1  no  \n",
       "1          5191.0  no  \n",
       "2          5228.1  no  \n",
       "3          5228.1  no  \n",
       "4          5195.8  no  \n",
       "...           ...  ..  \n",
       "4114       5228.1  no  \n",
       "4115       5228.1  no  \n",
       "4116       5099.1  no  \n",
       "4117       5228.1  no  \n",
       "4118       5195.8  no  \n",
       "\n",
       "[4119 rows x 21 columns]"
      ]
     },
     "execution_count": 3,
     "metadata": {},
     "output_type": "execute_result"
    }
   ],
   "source": [
    "# import data\n",
    "df = pd.read_csv('bank.txt', sep='\\t')\n",
    "# print data\n",
    "print(f'Original Shape of data: {df.shape}')\n",
    "df"
   ]
  },
  {
   "cell_type": "code",
   "execution_count": 4,
   "metadata": {},
   "outputs": [],
   "source": [
    "# in here we would spread out all the valid value of data with object type\n",
    "# which be considered before in the document\n",
    "valid_value = {\n",
    "    \"job\": [\"admin\", \"blue-collar\", \"entrepreneur\", \"housemaid\", \n",
    "\"management\", \"retired\", \"self-employed\", \"services\", \"student\", \"technician\", \"unemployed\", \n",
    "\"unknown\"],\n",
    "    \"marital\": [\"divorced\", \"married\", \"single\", \"unknown\"],\n",
    "    \"education\": [\"basic.4y\", \"basic.6y\", \"basic.9y\", \"high.school\", \"illiterate\", \n",
    "\"professional.course\", \"university.degree\", \"unknown\"],\n",
    "    \"default\" : [\"no\", \"yes\", \"unknown\"],\n",
    "    \"housing\" : [\"no\", \"yes\", \"unknown\"],\n",
    "    \"loan\" : [\"no\", \"yes\", \"unknown\"],\n",
    "    \"contact\" : [\"cellular\", \"telephone\"],\n",
    "    \"month\": [\"jan\", \"feb\", \"mar\", \"apr\", \"may\", \"jun\", \"jul\", \"aug\", \"sep\", \"oct\", \"nov\", \"dec\"],\n",
    "    \"day_of_week\" : [\"mon\", \"tue\", \"wed\", \"thu\", \"fri\"]\n",
    "}"
   ]
  },
  {
   "cell_type": "markdown",
   "metadata": {},
   "source": [
    "<h4><b>2. Data description</b></h4>\n",
    "<p>The data contains 4119 samples and 21 attributes</p>"
   ]
  },
  {
   "cell_type": "code",
   "execution_count": 5,
   "metadata": {},
   "outputs": [
    {
     "data": {
      "text/html": [
       "<div>\n",
       "<style scoped>\n",
       "    .dataframe tbody tr th:only-of-type {\n",
       "        vertical-align: middle;\n",
       "    }\n",
       "\n",
       "    .dataframe tbody tr th {\n",
       "        vertical-align: top;\n",
       "    }\n",
       "\n",
       "    .dataframe thead th {\n",
       "        text-align: right;\n",
       "    }\n",
       "</style>\n",
       "<table border=\"1\" class=\"dataframe\">\n",
       "  <thead>\n",
       "    <tr style=\"text-align: right;\">\n",
       "      <th></th>\n",
       "      <th>age</th>\n",
       "      <th>duration</th>\n",
       "      <th>campaign</th>\n",
       "      <th>pdays</th>\n",
       "      <th>previous</th>\n",
       "      <th>emp.var.rate</th>\n",
       "      <th>cons.price.idx</th>\n",
       "      <th>cons.conf.idx</th>\n",
       "      <th>euribor3m</th>\n",
       "      <th>nr.employed</th>\n",
       "    </tr>\n",
       "  </thead>\n",
       "  <tbody>\n",
       "    <tr>\n",
       "      <th>count</th>\n",
       "      <td>4119.000000</td>\n",
       "      <td>4116.000000</td>\n",
       "      <td>4117.000000</td>\n",
       "      <td>4119.000000</td>\n",
       "      <td>4119.000000</td>\n",
       "      <td>4117.000000</td>\n",
       "      <td>4117.000000</td>\n",
       "      <td>4117.000000</td>\n",
       "      <td>4117.000000</td>\n",
       "      <td>4119.000000</td>\n",
       "    </tr>\n",
       "    <tr>\n",
       "      <th>mean</th>\n",
       "      <td>40.162661</td>\n",
       "      <td>256.838678</td>\n",
       "      <td>2.537284</td>\n",
       "      <td>960.422190</td>\n",
       "      <td>0.190337</td>\n",
       "      <td>0.085183</td>\n",
       "      <td>93.579449</td>\n",
       "      <td>-40.502308</td>\n",
       "      <td>3.620728</td>\n",
       "      <td>5166.481695</td>\n",
       "    </tr>\n",
       "    <tr>\n",
       "      <th>std</th>\n",
       "      <td>10.621359</td>\n",
       "      <td>254.745327</td>\n",
       "      <td>2.568759</td>\n",
       "      <td>191.922786</td>\n",
       "      <td>0.541788</td>\n",
       "      <td>1.563138</td>\n",
       "      <td>0.579190</td>\n",
       "      <td>4.593059</td>\n",
       "      <td>1.733778</td>\n",
       "      <td>73.667904</td>\n",
       "    </tr>\n",
       "    <tr>\n",
       "      <th>min</th>\n",
       "      <td>13.000000</td>\n",
       "      <td>0.000000</td>\n",
       "      <td>1.000000</td>\n",
       "      <td>0.000000</td>\n",
       "      <td>0.000000</td>\n",
       "      <td>-3.400000</td>\n",
       "      <td>92.201000</td>\n",
       "      <td>-50.800000</td>\n",
       "      <td>0.635000</td>\n",
       "      <td>4963.600000</td>\n",
       "    </tr>\n",
       "    <tr>\n",
       "      <th>25%</th>\n",
       "      <td>32.000000</td>\n",
       "      <td>103.000000</td>\n",
       "      <td>1.000000</td>\n",
       "      <td>999.000000</td>\n",
       "      <td>0.000000</td>\n",
       "      <td>-1.800000</td>\n",
       "      <td>93.075000</td>\n",
       "      <td>-42.700000</td>\n",
       "      <td>1.334000</td>\n",
       "      <td>5099.100000</td>\n",
       "    </tr>\n",
       "    <tr>\n",
       "      <th>50%</th>\n",
       "      <td>38.000000</td>\n",
       "      <td>181.000000</td>\n",
       "      <td>2.000000</td>\n",
       "      <td>999.000000</td>\n",
       "      <td>0.000000</td>\n",
       "      <td>1.100000</td>\n",
       "      <td>93.749000</td>\n",
       "      <td>-41.800000</td>\n",
       "      <td>4.857000</td>\n",
       "      <td>5191.000000</td>\n",
       "    </tr>\n",
       "    <tr>\n",
       "      <th>75%</th>\n",
       "      <td>47.000000</td>\n",
       "      <td>317.000000</td>\n",
       "      <td>3.000000</td>\n",
       "      <td>999.000000</td>\n",
       "      <td>0.000000</td>\n",
       "      <td>1.400000</td>\n",
       "      <td>93.994000</td>\n",
       "      <td>-36.400000</td>\n",
       "      <td>4.961000</td>\n",
       "      <td>5228.100000</td>\n",
       "    </tr>\n",
       "    <tr>\n",
       "      <th>max</th>\n",
       "      <td>140.000000</td>\n",
       "      <td>3643.000000</td>\n",
       "      <td>35.000000</td>\n",
       "      <td>999.000000</td>\n",
       "      <td>6.000000</td>\n",
       "      <td>1.400000</td>\n",
       "      <td>94.767000</td>\n",
       "      <td>-26.900000</td>\n",
       "      <td>5.045000</td>\n",
       "      <td>5228.100000</td>\n",
       "    </tr>\n",
       "  </tbody>\n",
       "</table>\n",
       "</div>"
      ],
      "text/plain": [
       "               age     duration     campaign        pdays     previous  \\\n",
       "count  4119.000000  4116.000000  4117.000000  4119.000000  4119.000000   \n",
       "mean     40.162661   256.838678     2.537284   960.422190     0.190337   \n",
       "std      10.621359   254.745327     2.568759   191.922786     0.541788   \n",
       "min      13.000000     0.000000     1.000000     0.000000     0.000000   \n",
       "25%      32.000000   103.000000     1.000000   999.000000     0.000000   \n",
       "50%      38.000000   181.000000     2.000000   999.000000     0.000000   \n",
       "75%      47.000000   317.000000     3.000000   999.000000     0.000000   \n",
       "max     140.000000  3643.000000    35.000000   999.000000     6.000000   \n",
       "\n",
       "       emp.var.rate  cons.price.idx  cons.conf.idx    euribor3m  nr.employed  \n",
       "count   4117.000000     4117.000000    4117.000000  4117.000000  4119.000000  \n",
       "mean       0.085183       93.579449     -40.502308     3.620728  5166.481695  \n",
       "std        1.563138        0.579190       4.593059     1.733778    73.667904  \n",
       "min       -3.400000       92.201000     -50.800000     0.635000  4963.600000  \n",
       "25%       -1.800000       93.075000     -42.700000     1.334000  5099.100000  \n",
       "50%        1.100000       93.749000     -41.800000     4.857000  5191.000000  \n",
       "75%        1.400000       93.994000     -36.400000     4.961000  5228.100000  \n",
       "max        1.400000       94.767000     -26.900000     5.045000  5228.100000  "
      ]
     },
     "execution_count": 5,
     "metadata": {},
     "output_type": "execute_result"
    }
   ],
   "source": [
    "df.describe()"
   ]
  },
  {
   "cell_type": "markdown",
   "metadata": {},
   "source": [
    "<p>We can see the min duration is 0 that highly affects the output target so we need to drop this value</p>\n",
    "<p>Now we check the values of one specific column</p>"
   ]
  },
  {
   "cell_type": "code",
   "execution_count": 6,
   "metadata": {},
   "outputs": [
    {
     "data": {
      "text/plain": [
       "university.degree      1264\n",
       "high.school             921\n",
       "basic.9y                572\n",
       "professional.course     535\n",
       "basic.4y                425\n",
       "basic.6y                223\n",
       "unknown                 167\n",
       "basic .6y                 4\n",
       "basic0.4y                 2\n",
       "basic .4y                 2\n",
       "basic .9y                 2\n",
       "basic0.6y                 1\n",
       "illiterate                1\n",
       "Name: education, dtype: int64"
      ]
     },
     "execution_count": 6,
     "metadata": {},
     "output_type": "execute_result"
    }
   ],
   "source": [
    "df['education'].value_counts()"
   ]
  },
  {
   "cell_type": "markdown",
   "metadata": {},
   "source": [
    "-> Found that this column containing lot of typos error values, which would be considered to fix in several next steps"
   ]
  },
  {
   "cell_type": "code",
   "execution_count": 7,
   "metadata": {},
   "outputs": [
    {
     "name": "stdout",
     "output_type": "stream",
     "text": [
      "<class 'pandas.core.frame.DataFrame'>\n",
      "RangeIndex: 4119 entries, 0 to 4118\n",
      "Data columns (total 21 columns):\n",
      " #   Column          Non-Null Count  Dtype  \n",
      "---  ------          --------------  -----  \n",
      " 0   age             4119 non-null   int64  \n",
      " 1   job             4119 non-null   object \n",
      " 2   marital         4119 non-null   object \n",
      " 3   education       4119 non-null   object \n",
      " 4   default         4119 non-null   object \n",
      " 5   housing         4117 non-null   object \n",
      " 6   loan            4119 non-null   object \n",
      " 7   contact         4119 non-null   object \n",
      " 8   month           4119 non-null   object \n",
      " 9   day_of_week     4119 non-null   object \n",
      " 10  duration        4116 non-null   float64\n",
      " 11  campaign        4117 non-null   float64\n",
      " 12  pdays           4119 non-null   int64  \n",
      " 13  previous        4119 non-null   int64  \n",
      " 14  poutcome        4119 non-null   object \n",
      " 15  emp.var.rate    4117 non-null   float64\n",
      " 16  cons.price.idx  4117 non-null   float64\n",
      " 17  cons.conf.idx   4117 non-null   float64\n",
      " 18  euribor3m       4117 non-null   float64\n",
      " 19  nr.employed     4119 non-null   float64\n",
      " 20  y               4119 non-null   object \n",
      "dtypes: float64(7), int64(3), object(11)\n",
      "memory usage: 675.9+ KB\n"
     ]
    }
   ],
   "source": [
    "df.info()"
   ]
  },
  {
   "cell_type": "markdown",
   "metadata": {},
   "source": [
    "-> From this summary, it's easy to figure out that the data type of each columns is not to considerable, instead of that, the null value in some columns could be principal to take in next steps"
   ]
  },
  {
   "cell_type": "markdown",
   "metadata": {},
   "source": [
    "<h4><b>3. Data errors detection</b></h4>"
   ]
  },
  {
   "cell_type": "code",
   "execution_count": 8,
   "metadata": {},
   "outputs": [],
   "source": [
    "# from now all the error index found would be stored in this variables \n",
    "global list_error_index\n",
    "list_error_index = []"
   ]
  },
  {
   "cell_type": "markdown",
   "metadata": {},
   "source": [
    "<p>First we need to process the values 0 of duration</p>"
   ]
  },
  {
   "cell_type": "code",
   "execution_count": 9,
   "metadata": {},
   "outputs": [
    {
     "name": "stdout",
     "output_type": "stream",
     "text": [
      "There be 0 error(s) had been occured\n"
     ]
    }
   ],
   "source": [
    "# get error index of column duration that make column y be missunderstand\n",
    "error_index = df[(df[\"duration\"]==0) & (df[\"y\"]=='yes')].index\n",
    "list_error_index.append(error_index)\n",
    "# df.drop(error_index, inplace=True)\n",
    "print(f\"There be {error_index.size} error(s) had been occured\")"
   ]
  },
  {
   "cell_type": "code",
   "execution_count": 10,
   "metadata": {},
   "outputs": [
    {
     "name": "stdout",
     "output_type": "stream",
     "text": [
      "There be 4 error(s) had been occured\n"
     ]
    }
   ],
   "source": [
    "total_na_occur = 0\n",
    "for col in df.columns:\n",
    "    error_index = df.loc[df[col]=='na'].index\n",
    "    list_error_index.append(error_index)\n",
    "    total_na_occur += error_index.size\n",
    "print(f\"There be {total_na_occur} error(s) had been occured\")"
   ]
  },
  {
   "cell_type": "markdown",
   "metadata": {},
   "source": [
    "<p>Next we correct the typos error columns</p>"
   ]
  },
  {
   "cell_type": "code",
   "execution_count": 11,
   "metadata": {},
   "outputs": [
    {
     "name": "stdout",
     "output_type": "stream",
     "text": [
      "Example: basic0. 4y of column education change to => basic.4y\n",
      "Total errors have been fixed: 19\n"
     ]
    },
    {
     "data": {
      "text/html": [
       "<div>\n",
       "<style scoped>\n",
       "    .dataframe tbody tr th:only-of-type {\n",
       "        vertical-align: middle;\n",
       "    }\n",
       "\n",
       "    .dataframe tbody tr th {\n",
       "        vertical-align: top;\n",
       "    }\n",
       "\n",
       "    .dataframe thead th {\n",
       "        text-align: right;\n",
       "    }\n",
       "</style>\n",
       "<table border=\"1\" class=\"dataframe\">\n",
       "  <thead>\n",
       "    <tr style=\"text-align: right;\">\n",
       "      <th></th>\n",
       "      <th>age</th>\n",
       "      <th>job</th>\n",
       "      <th>marital</th>\n",
       "      <th>education</th>\n",
       "      <th>default</th>\n",
       "      <th>housing</th>\n",
       "      <th>loan</th>\n",
       "      <th>contact</th>\n",
       "      <th>month</th>\n",
       "      <th>day_of_week</th>\n",
       "      <th>...</th>\n",
       "      <th>campaign</th>\n",
       "      <th>pdays</th>\n",
       "      <th>previous</th>\n",
       "      <th>poutcome</th>\n",
       "      <th>emp.var.rate</th>\n",
       "      <th>cons.price.idx</th>\n",
       "      <th>cons.conf.idx</th>\n",
       "      <th>euribor3m</th>\n",
       "      <th>nr.employed</th>\n",
       "      <th>y</th>\n",
       "    </tr>\n",
       "  </thead>\n",
       "  <tbody>\n",
       "    <tr>\n",
       "      <th>0</th>\n",
       "      <td>30</td>\n",
       "      <td>blue-collar</td>\n",
       "      <td>married</td>\n",
       "      <td>basic.9y</td>\n",
       "      <td>no</td>\n",
       "      <td>yes</td>\n",
       "      <td>no</td>\n",
       "      <td>cellular</td>\n",
       "      <td>may</td>\n",
       "      <td>fri</td>\n",
       "      <td>...</td>\n",
       "      <td>2.0</td>\n",
       "      <td>999</td>\n",
       "      <td>0</td>\n",
       "      <td>nonexistent</td>\n",
       "      <td>-1.8</td>\n",
       "      <td>92.893</td>\n",
       "      <td>-46.2</td>\n",
       "      <td>1.313</td>\n",
       "      <td>5099.1</td>\n",
       "      <td>no</td>\n",
       "    </tr>\n",
       "    <tr>\n",
       "      <th>1</th>\n",
       "      <td>39</td>\n",
       "      <td>services</td>\n",
       "      <td>single</td>\n",
       "      <td>high.school</td>\n",
       "      <td>no</td>\n",
       "      <td>no</td>\n",
       "      <td>no</td>\n",
       "      <td>telephone</td>\n",
       "      <td>may</td>\n",
       "      <td>fri</td>\n",
       "      <td>...</td>\n",
       "      <td>4.0</td>\n",
       "      <td>999</td>\n",
       "      <td>0</td>\n",
       "      <td>nonexistent</td>\n",
       "      <td>1.1</td>\n",
       "      <td>93.994</td>\n",
       "      <td>-36.4</td>\n",
       "      <td>4.855</td>\n",
       "      <td>5191.0</td>\n",
       "      <td>no</td>\n",
       "    </tr>\n",
       "    <tr>\n",
       "      <th>2</th>\n",
       "      <td>25</td>\n",
       "      <td>services</td>\n",
       "      <td>married</td>\n",
       "      <td>high.school</td>\n",
       "      <td>no</td>\n",
       "      <td>yes</td>\n",
       "      <td>no</td>\n",
       "      <td>telephone</td>\n",
       "      <td>jun</td>\n",
       "      <td>wed</td>\n",
       "      <td>...</td>\n",
       "      <td>1.0</td>\n",
       "      <td>999</td>\n",
       "      <td>0</td>\n",
       "      <td>nonexistent</td>\n",
       "      <td>1.4</td>\n",
       "      <td>94.465</td>\n",
       "      <td>-41.8</td>\n",
       "      <td>4.962</td>\n",
       "      <td>5228.1</td>\n",
       "      <td>no</td>\n",
       "    </tr>\n",
       "    <tr>\n",
       "      <th>3</th>\n",
       "      <td>38</td>\n",
       "      <td>services</td>\n",
       "      <td>married</td>\n",
       "      <td>basic.9y</td>\n",
       "      <td>no</td>\n",
       "      <td>unknown</td>\n",
       "      <td>unknown</td>\n",
       "      <td>telephone</td>\n",
       "      <td>jun</td>\n",
       "      <td>fri</td>\n",
       "      <td>...</td>\n",
       "      <td>3.0</td>\n",
       "      <td>999</td>\n",
       "      <td>0</td>\n",
       "      <td>nonexistent</td>\n",
       "      <td>1.4</td>\n",
       "      <td>94.465</td>\n",
       "      <td>-41.8</td>\n",
       "      <td>4.959</td>\n",
       "      <td>5228.1</td>\n",
       "      <td>no</td>\n",
       "    </tr>\n",
       "    <tr>\n",
       "      <th>4</th>\n",
       "      <td>47</td>\n",
       "      <td>admin</td>\n",
       "      <td>married</td>\n",
       "      <td>university.degree</td>\n",
       "      <td>no</td>\n",
       "      <td>yes</td>\n",
       "      <td>no</td>\n",
       "      <td>cellular</td>\n",
       "      <td>nov</td>\n",
       "      <td>mon</td>\n",
       "      <td>...</td>\n",
       "      <td>1.0</td>\n",
       "      <td>999</td>\n",
       "      <td>0</td>\n",
       "      <td>nonexistent</td>\n",
       "      <td>-0.1</td>\n",
       "      <td>93.200</td>\n",
       "      <td>-42.0</td>\n",
       "      <td>4.191</td>\n",
       "      <td>5195.8</td>\n",
       "      <td>no</td>\n",
       "    </tr>\n",
       "    <tr>\n",
       "      <th>...</th>\n",
       "      <td>...</td>\n",
       "      <td>...</td>\n",
       "      <td>...</td>\n",
       "      <td>...</td>\n",
       "      <td>...</td>\n",
       "      <td>...</td>\n",
       "      <td>...</td>\n",
       "      <td>...</td>\n",
       "      <td>...</td>\n",
       "      <td>...</td>\n",
       "      <td>...</td>\n",
       "      <td>...</td>\n",
       "      <td>...</td>\n",
       "      <td>...</td>\n",
       "      <td>...</td>\n",
       "      <td>...</td>\n",
       "      <td>...</td>\n",
       "      <td>...</td>\n",
       "      <td>...</td>\n",
       "      <td>...</td>\n",
       "      <td>...</td>\n",
       "    </tr>\n",
       "    <tr>\n",
       "      <th>4114</th>\n",
       "      <td>30</td>\n",
       "      <td>admin</td>\n",
       "      <td>married</td>\n",
       "      <td>basic.6y</td>\n",
       "      <td>no</td>\n",
       "      <td>yes</td>\n",
       "      <td>yes</td>\n",
       "      <td>cellular</td>\n",
       "      <td>jul</td>\n",
       "      <td>thu</td>\n",
       "      <td>...</td>\n",
       "      <td>1.0</td>\n",
       "      <td>999</td>\n",
       "      <td>0</td>\n",
       "      <td>nonexistent</td>\n",
       "      <td>1.4</td>\n",
       "      <td>93.918</td>\n",
       "      <td>-42.7</td>\n",
       "      <td>4.958</td>\n",
       "      <td>5228.1</td>\n",
       "      <td>no</td>\n",
       "    </tr>\n",
       "    <tr>\n",
       "      <th>4115</th>\n",
       "      <td>39</td>\n",
       "      <td>admin</td>\n",
       "      <td>married</td>\n",
       "      <td>high.school</td>\n",
       "      <td>no</td>\n",
       "      <td>yes</td>\n",
       "      <td>no</td>\n",
       "      <td>telephone</td>\n",
       "      <td>jul</td>\n",
       "      <td>fri</td>\n",
       "      <td>...</td>\n",
       "      <td>1.0</td>\n",
       "      <td>999</td>\n",
       "      <td>0</td>\n",
       "      <td>nonexistent</td>\n",
       "      <td>1.4</td>\n",
       "      <td>93.918</td>\n",
       "      <td>-42.7</td>\n",
       "      <td>4.959</td>\n",
       "      <td>5228.1</td>\n",
       "      <td>no</td>\n",
       "    </tr>\n",
       "    <tr>\n",
       "      <th>4116</th>\n",
       "      <td>27</td>\n",
       "      <td>student</td>\n",
       "      <td>single</td>\n",
       "      <td>high.school</td>\n",
       "      <td>no</td>\n",
       "      <td>no</td>\n",
       "      <td>no</td>\n",
       "      <td>cellular</td>\n",
       "      <td>may</td>\n",
       "      <td>mon</td>\n",
       "      <td>...</td>\n",
       "      <td>2.0</td>\n",
       "      <td>999</td>\n",
       "      <td>1</td>\n",
       "      <td>failure</td>\n",
       "      <td>-1.8</td>\n",
       "      <td>92.893</td>\n",
       "      <td>-46.2</td>\n",
       "      <td>1.354</td>\n",
       "      <td>5099.1</td>\n",
       "      <td>no</td>\n",
       "    </tr>\n",
       "    <tr>\n",
       "      <th>4117</th>\n",
       "      <td>58</td>\n",
       "      <td>admin</td>\n",
       "      <td>married</td>\n",
       "      <td>high.school</td>\n",
       "      <td>no</td>\n",
       "      <td>no</td>\n",
       "      <td>no</td>\n",
       "      <td>cellular</td>\n",
       "      <td>aug</td>\n",
       "      <td>fri</td>\n",
       "      <td>...</td>\n",
       "      <td>1.0</td>\n",
       "      <td>999</td>\n",
       "      <td>0</td>\n",
       "      <td>nonexistent</td>\n",
       "      <td>1.4</td>\n",
       "      <td>93.444</td>\n",
       "      <td>-36.1</td>\n",
       "      <td>4.966</td>\n",
       "      <td>5228.1</td>\n",
       "      <td>no</td>\n",
       "    </tr>\n",
       "    <tr>\n",
       "      <th>4118</th>\n",
       "      <td>34</td>\n",
       "      <td>management</td>\n",
       "      <td>single</td>\n",
       "      <td>high.school</td>\n",
       "      <td>no</td>\n",
       "      <td>yes</td>\n",
       "      <td>no</td>\n",
       "      <td>cellular</td>\n",
       "      <td>nov</td>\n",
       "      <td>wed</td>\n",
       "      <td>...</td>\n",
       "      <td>1.0</td>\n",
       "      <td>999</td>\n",
       "      <td>0</td>\n",
       "      <td>nonexistent</td>\n",
       "      <td>-0.1</td>\n",
       "      <td>93.200</td>\n",
       "      <td>-42.0</td>\n",
       "      <td>4.120</td>\n",
       "      <td>5195.8</td>\n",
       "      <td>no</td>\n",
       "    </tr>\n",
       "  </tbody>\n",
       "</table>\n",
       "<p>4119 rows × 21 columns</p>\n",
       "</div>"
      ],
      "text/plain": [
       "      age          job  marital          education default  housing     loan  \\\n",
       "0      30  blue-collar  married           basic.9y      no      yes       no   \n",
       "1      39     services   single        high.school      no       no       no   \n",
       "2      25     services  married        high.school      no      yes       no   \n",
       "3      38     services  married           basic.9y      no  unknown  unknown   \n",
       "4      47        admin  married  university.degree      no      yes       no   \n",
       "...   ...          ...      ...                ...     ...      ...      ...   \n",
       "4114   30        admin  married           basic.6y      no      yes      yes   \n",
       "4115   39        admin  married        high.school      no      yes       no   \n",
       "4116   27      student   single        high.school      no       no       no   \n",
       "4117   58        admin  married        high.school      no       no       no   \n",
       "4118   34   management   single        high.school      no      yes       no   \n",
       "\n",
       "        contact month day_of_week  ...  campaign  pdays  previous  \\\n",
       "0      cellular   may         fri  ...       2.0    999         0   \n",
       "1     telephone   may         fri  ...       4.0    999         0   \n",
       "2     telephone   jun         wed  ...       1.0    999         0   \n",
       "3     telephone   jun         fri  ...       3.0    999         0   \n",
       "4      cellular   nov         mon  ...       1.0    999         0   \n",
       "...         ...   ...         ...  ...       ...    ...       ...   \n",
       "4114   cellular   jul         thu  ...       1.0    999         0   \n",
       "4115  telephone   jul         fri  ...       1.0    999         0   \n",
       "4116   cellular   may         mon  ...       2.0    999         1   \n",
       "4117   cellular   aug         fri  ...       1.0    999         0   \n",
       "4118   cellular   nov         wed  ...       1.0    999         0   \n",
       "\n",
       "         poutcome emp.var.rate  cons.price.idx  cons.conf.idx  euribor3m  \\\n",
       "0     nonexistent         -1.8          92.893          -46.2      1.313   \n",
       "1     nonexistent          1.1          93.994          -36.4      4.855   \n",
       "2     nonexistent          1.4          94.465          -41.8      4.962   \n",
       "3     nonexistent          1.4          94.465          -41.8      4.959   \n",
       "4     nonexistent         -0.1          93.200          -42.0      4.191   \n",
       "...           ...          ...             ...            ...        ...   \n",
       "4114  nonexistent          1.4          93.918          -42.7      4.958   \n",
       "4115  nonexistent          1.4          93.918          -42.7      4.959   \n",
       "4116      failure         -1.8          92.893          -46.2      1.354   \n",
       "4117  nonexistent          1.4          93.444          -36.1      4.966   \n",
       "4118  nonexistent         -0.1          93.200          -42.0      4.120   \n",
       "\n",
       "      nr.employed   y  \n",
       "0          5099.1  no  \n",
       "1          5191.0  no  \n",
       "2          5228.1  no  \n",
       "3          5228.1  no  \n",
       "4          5195.8  no  \n",
       "...           ...  ..  \n",
       "4114       5228.1  no  \n",
       "4115       5228.1  no  \n",
       "4116       5099.1  no  \n",
       "4117       5228.1  no  \n",
       "4118       5195.8  no  \n",
       "\n",
       "[4119 rows x 21 columns]"
      ]
     },
     "execution_count": 11,
     "metadata": {},
     "output_type": "execute_result"
    }
   ],
   "source": [
    "# function that would compare the typos error word and fix it whether it is approximate with the valid values above\n",
    "def auto_fix(error, valid):\n",
    "    if (not error or error==\"na\"): return error\n",
    "    anchor, percent = error, 0\n",
    "    for value in valid:\n",
    "        try:\n",
    "            s = sum([1 if char in value else 0 for char in error])\n",
    "            if (s*100/len(value)>percent): \n",
    "                anchor = value\n",
    "                percent = s*100/len(value)\n",
    "        except: continue\n",
    "    return anchor\n",
    "\n",
    "error = \"basic0. 4y\"\n",
    "print(\"Example:\", error, \"of column education change to =>\", auto_fix(error, valid_value[\"education\"]))\n",
    "\n",
    "def typos_treatment(df, valid_value, total_error_occur):\n",
    "    for key, val in valid_value.items():\n",
    "        index = df[~df[key].isin(val)].index\n",
    "        error_list = list(df.iloc[index][key].unique())\n",
    "        total_error_occur += len(error_list)\n",
    "        for error in error_list:\n",
    "            df[key] = pd.Series(df[key].replace(error, auto_fix(error, valid_value[key])))\n",
    "    return df, total_error_occur\n",
    "\n",
    "df, total_error_occur = typos_treatment(df, valid_value, 0)\n",
    "print(f\"Total errors have been fixed: {total_error_occur}\")\n",
    "df"
   ]
  },
  {
   "cell_type": "markdown",
   "metadata": {},
   "source": [
    "<p><b>4. Export clean data to csv</b></p>"
   ]
  },
  {
   "cell_type": "code",
   "execution_count": 12,
   "metadata": {},
   "outputs": [],
   "source": [
    "df.to_csv('bank.csv', sep=',', index=False)"
   ]
  },
  {
   "cell_type": "markdown",
   "metadata": {},
   "source": [
    "<h1><b>Task II: Data Exploration</b></h1>"
   ]
  },
  {
   "cell_type": "markdown",
   "metadata": {},
   "source": [
    "<p><b>Task 2.1: Choose 3 columns, 1 column with nominal values, 1 column with ordinal values,\n",
    "and 1 column with numerical values. Then, use an appropriate graph to create a\n",
    "visualization for each of them. Please give a short explanation why would you choose\n",
    "those columns/attributes for visualisation?\n",
    "</b></p>"
   ]
  },
  {
   "cell_type": "code",
   "execution_count": 13,
   "metadata": {},
   "outputs": [
    {
     "data": {
      "text/plain": [
       "admin            1012\n",
       "blue-collar       884\n",
       "technician        691\n",
       "services          393\n",
       "management        324\n",
       "retired           166\n",
       "self-employed     159\n",
       "entrepreneur      147\n",
       "unemployed        111\n",
       "housemaid         110\n",
       "student            83\n",
       "unknown            39\n",
       "Name: job, dtype: int64"
      ]
     },
     "execution_count": 13,
     "metadata": {},
     "output_type": "execute_result"
    }
   ],
   "source": [
    "df['job'].value_counts()"
   ]
  },
  {
   "cell_type": "code",
   "execution_count": 43,
   "metadata": {},
   "outputs": [
    {
     "data": {
      "image/png": "[encoded data removed]",
      "text/plain": [
       "<Figure size 432x288 with 1 Axes>"
      ]
     },
     "metadata": {
      "needs_background": "light"
     },
     "output_type": "display_data"
    }
   ],
   "source": [
    "# nominal values\n",
    "plt.barh(df['job'].unique(), width=df['job'].value_counts(), color=\"green\", label=\"Num of job\")\n",
    "plt.title(\"Total number of job\")\n",
    "plt.legend(loc='upper right')\n",
    "plt.xlabel('number customers')\n",
    "plt.show()"
   ]
  },
  {
   "cell_type": "markdown",
   "metadata": {},
   "source": [
    "<p>This graph displays that blue-collar as a revalent major of job that join in this campagin the most</p>"
   ]
  },
  {
   "cell_type": "code",
   "execution_count": 45,
   "metadata": {},
   "outputs": [
    {
     "data": {
      "image/png": "[encoded data removed]",
      "text/plain": [
       "<Figure size 432x288 with 1 Axes>"
      ]
     },
     "metadata": {
      "needs_background": "light"
     },
     "output_type": "display_data"
    }
   ],
   "source": [
    "def sort_month(key):\n",
    "    return valid_value['month'].index(key[0])\n",
    "\n",
    "# ordered values\n",
    "month_vals = dict(sorted(dict(df['month'].value_counts()).items(), key=sort_month))\n",
    "plt.plot(month_vals.keys(), month_vals.values(), label=\"Num of month\")\n",
    "plt.title(\"Number of last contacts in every month\")\n",
    "plt.legend(loc=\"upper right\")\n",
    "plt.ylabel('Total contacts')\n",
    "plt.xlabel('Months')\n",
    "plt.show()"
   ]
  },
  {
   "cell_type": "markdown",
   "metadata": {},
   "source": [
    "<p>The graph above displays the most user previous contancts is on May as well as the least is on March</p>"
   ]
  },
  {
   "cell_type": "code",
   "execution_count": 46,
   "metadata": {},
   "outputs": [
    {
     "data": {
      "image/png": "[encoded data removed]",
      "text/plain": [
       "<Figure size 432x288 with 1 Axes>"
      ]
     },
     "metadata": {
      "needs_background": "light"
     },
     "output_type": "display_data"
    }
   ],
   "source": [
    "# numeric values\n",
    "unique = list(df['age'].unique())\n",
    "counts = (df['age'].value_counts())\n",
    "counts = counts.sort_index()\n",
    "plt.plot(counts.index, counts, label=\"Number of customer\")\n",
    "plt.title(\"The data of total number of people in each kind of age\")\n",
    "plt.legend(loc='upper right')\n",
    "plt.xlabel('Range of age')\n",
    "plt.ylabel('Total customers')\n",
    "# df_merge = pd.merge(unique, counts, how=\"outer\")\n",
    "plt.show()"
   ]
  },
  {
   "cell_type": "markdown",
   "metadata": {},
   "source": [
    "From above graph we could conclude that the range number of 30-40 years old play a key volume in the total of customers."
   ]
  },
  {
   "cell_type": "markdown",
   "metadata": {},
   "source": [
    "<p><b>Task 2.2: Explore the relationships between columns. You need to choose 3 pairs of columns to focus on, and you need to generate 1 visualisation for each pair. Each pair of columns that you choose should address a plausible hypothesis for the data concerned. Please give a short description for each hypothesis.\n",
    "</b></p>"
   ]
  },
  {
   "cell_type": "code",
   "execution_count": 18,
   "metadata": {},
   "outputs": [],
   "source": [
    "def getMeanValues(df, column_check, column_get):\n",
    "    items = list(df[column_check].unique())\n",
    "    values = [(mean(list(df.loc[df[column_check]==ite, column_get].dropna()))) for ite in items]\n",
    "    return values, items\n",
    "\n",
    "def getSumValues(df, column_check, column_get):\n",
    "    items = list(df[column_check].unique())\n",
    "    values = [(sum(list(df.loc[df[column_check]==ite, column_get].dropna()))) for ite in items]\n",
    "    return values, items"
   ]
  },
  {
   "cell_type": "code",
   "execution_count": 47,
   "metadata": {},
   "outputs": [
    {
     "data": {
      "image/png": "[encoded data removed]",
      "text/plain": [
       "<Figure size 432x288 with 1 Axes>"
      ]
     },
     "metadata": {
      "needs_background": "light"
     },
     "output_type": "display_data"
    }
   ],
   "source": [
    "x, y = getSumValues(df, 'day_of_week', 'campaign')\n",
    "plt.barh(y, x, color=\"green\", label=\"Total contacts\")\n",
    "plt.legend(loc='upper right')\n",
    "plt.title('Sum of contacts in each day of week')\n",
    "plt.xlabel('Sum of contacts in this campaign')\n",
    "plt.ylabel('days of week')\n",
    "plt.show()"
   ]
  },
  {
   "cell_type": "markdown",
   "metadata": {},
   "source": [
    "<font color=\"orange\">This graph is combined by 2 columns of campaign and day_of_week, in which the values of campaign are sum on each day</font>"
   ]
  },
  {
   "cell_type": "markdown",
   "metadata": {},
   "source": [
    "Assume the bar chart we could relize that the current total sum campaign that effectively prevalent in the day of Monday with the maximum value of contacts could take, instead of that, Wednesday could be the day that people tend to avoid the call than.\n",
    "\n",
    "<font color=\"oval\">Note: This type of combined data maybe affected by the Outliers</font>\n",
    "\n",
    "=> This could lead directly to specific plan that the bank should focus their event in the day of weekends."
   ]
  },
  {
   "cell_type": "code",
   "execution_count": 42,
   "metadata": {},
   "outputs": [
    {
     "data": {
      "image/png": "[encoded data removed]",
      "text/plain": [
       "<Figure size 432x288 with 1 Axes>"
      ]
     },
     "metadata": {
      "needs_background": "light"
     },
     "output_type": "display_data"
    }
   ],
   "source": [
    "x = list(df['age'])\n",
    "y = list(df['cons.price.idx'])\n",
    "rg = len(x)//4\n",
    "plt.scatter(x[:rg], y[:rg], alpha=0.2, color=\"red\", cmap='viridis', label=\"Consum price on each age\")\n",
    "plt.title('The allocation of consum price on each age')\n",
    "plt.ylabel(\"consume price\")\n",
    "plt.xlabel(\"Age\")\n",
    "plt.legend(loc=\"upper right\")\n",
    "plt.show()"
   ]
  },
  {
   "cell_type": "markdown",
   "metadata": {},
   "source": [
    "<font color=\"orange\">This graph is combined by 2 columns of age and cons.price.idx</font>"
   ]
  },
  {
   "cell_type": "markdown",
   "metadata": {},
   "source": [
    "Aprroaching the alpha scatter chart, clearly that the age between 20-60 years old could be the most range of age consuming most value of price, which could be most in 93.0 to 94.0\n",
    "\n",
    "=> In the result, the marketing plan should focus in the people of age range youngers, especially in 35 years old."
   ]
  },
  {
   "cell_type": "code",
   "execution_count": 49,
   "metadata": {},
   "outputs": [
    {
     "data": {
      "image/png": "[encoded data removed]",
      "text/plain": [
       "<Figure size 432x288 with 1 Axes>"
      ]
     },
     "metadata": {
      "needs_background": "light"
     },
     "output_type": "display_data"
    }
   ],
   "source": [
    "x, y = getMeanValues(df, 'month', 'duration')\n",
    "rg = len(x)\n",
    "plt.plot(y[:rg], x[:rg], label=\"Mean value of each month\")\n",
    "plt.ylabel(\"Mean duration\")\n",
    "plt.xlabel(\"Last month contact\")\n",
    "plt.legend(loc=\"upper right\")\n",
    "plt.title('Average of duration call in each month')\n",
    "plt.show()"
   ]
  },
  {
   "cell_type": "markdown",
   "metadata": {},
   "source": [
    "<font color=\"orange\">This graph is combined by 2 columns of month and duration, in which duration has been switched to median values</font>"
   ]
  },
  {
   "cell_type": "markdown",
   "metadata": {},
   "source": [
    "After calculating the mean value of duration in each month, we could get the information that despite the maximum contacts be in May, the most duration of particular call is in the September and March.\n",
    "\n",
    "<font color=\"oval\">Note: This type of combined data is affected significantly by the Outliers</font>\n",
    "\n",
    "=> The event of campaign should focus on the Summer and Spring of seasons"
   ]
  },
  {
   "cell_type": "markdown",
   "metadata": {},
   "source": [
    "<p><b>Task 2.3: Explore the relationships between columns. You need to choose 3 pairs of columns to\n",
    "focus on, and you need to generate 1 visualisation for each pair. Each pair of columns\n",
    "that you choose should address a plausible hypothesis for the data concerned. Please\n",
    "give a short description for each hypothesis.\n",
    "</b></p>"
   ]
  },
  {
   "cell_type": "code",
   "execution_count": 56,
   "metadata": {},
   "outputs": [
    {
     "data": {
      "image/png": "[encoded data removed]",
      "text/plain": [
       "<Figure size 432x288 with 1 Axes>"
      ]
     },
     "metadata": {
      "needs_background": "light"
     },
     "output_type": "display_data"
    }
   ],
   "source": [
    "# Visualize the correlation of 3 columns, including [age], [emp.var.rate] and [cons.conf.idx]\n",
    "x, y = getMeanValues(df, 'age', 'emp.var.rate')\n",
    "z, y = getMeanValues(df, 'age', 'cons.conf.idx')\n",
    "plt.scatter(x, y, alpha=1, c=z, cmap='hot', label=\"Number of employment variance with age confidence\")\n",
    "plt.scatter(-2, 75, s=15000, alpha=0.2)\n",
    "plt.scatter(0, 40, s=10000, alpha=0.2)\n",
    "plt.scatter(-2, 10, s=4000, alpha=0.5, cmap=\"\")\n",
    "plt.legend(loc=\"upper right\")\n",
    "plt.title(\"The distribution of groups depending in each confidence age with variance\")\n",
    "plt.show()"
   ]
  },
  {
   "cell_type": "markdown",
   "metadata": {},
   "source": [
    "<font color=\"orange\">This graph is combined by 3 columns of age, emp.var.rate and cons.conf.idx</font>"
   ]
  },
  {
   "cell_type": "markdown",
   "metadata": {},
   "source": [
    "From the heat scatter graph, after treating value of employment variance and consumer confidence to the mean values depending on the unique value of age, we could observe that with the age of 40, customers have a tendency to be stable in the variance of employment due to their high confidence in life, in which, the age with less confidence is nearly 70 have less stability in the employment variance, which is as same as the age of below 20."
   ]
  },
  {
   "cell_type": "markdown",
   "metadata": {},
   "source": [
    "<h1><b>Task III: Dealing with Missing Values and Outliers</b></h1>\n",
    "<p><b>1. Deal with missing values</b></p>\n"
   ]
  },
  {
   "cell_type": "code",
   "execution_count": 23,
   "metadata": {},
   "outputs": [],
   "source": [
    "# Setup\n",
    "missing_vals_df = df.copy()\n",
    "missing_vals_df2 = df.copy()\n",
    "nume_cols = df.select_dtypes(include=['float', 'int64']).columns\n",
    "obj_cols = df.select_dtypes(include=['object']).columns"
   ]
  },
  {
   "cell_type": "markdown",
   "metadata": {},
   "source": [
    "Mean"
   ]
  },
  {
   "cell_type": "code",
   "execution_count": 24,
   "metadata": {},
   "outputs": [],
   "source": [
    "# replacing missing numeric values with mean value\n",
    "for col in nume_cols:\n",
    "    missing_vals_df[col] = missing_vals_df[col].fillna(missing_vals_df[col].mean())\n",
    "# replace missing values of the object value\n",
    "for col in obj_cols:\n",
    "    missing_vals_df[col] = missing_vals_df[col].replace('na', list(dict(missing_vals_df[col].value_counts()).keys())[0])\n",
    "# Export to bank_fix1.csv file\n",
    "missing_vals_df.to_csv('bank_fix1.csv', sep=',')"
   ]
  },
  {
   "cell_type": "markdown",
   "metadata": {},
   "source": [
    "Median"
   ]
  },
  {
   "cell_type": "code",
   "execution_count": 25,
   "metadata": {},
   "outputs": [],
   "source": [
    "for i in nume_cols:\n",
    "    missing_vals_df2[i] = missing_vals_df2[i].fillna(missing_vals_df2[i].median())\n",
    "# drop missing values of object\n",
    "for col in obj_cols:\n",
    "    missing_vals_df2[col] = missing_vals_df2[col].replace('na', list(dict(missing_vals_df2[col].value_counts()).keys())[0])\n",
    "# Export to bank_fix2.csv file\n",
    "missing_vals_df2.to_csv('bank_fix2.csv', sep=',')"
   ]
  },
  {
   "cell_type": "markdown",
   "metadata": {},
   "source": [
    "- The outliers affect the standard deviation because it is calculated by the square root of the sum of x minus the mean squared and outliers affect the mean. The more extreme the outlier, the more standard deviation. \n",
    "- Sometimes an outlier has its meaning. We should not remove an outlier when it presents natural variation in the population.\n",
    "- After rehearsing the data of numeric columns, we found that the outliers appears and effects significantly to the data set which we could figure out from some aboved graphs. And especially, visualization would be one of the great methods to recognize the outliers of data, which would represent far away from other groups."
   ]
  },
  {
   "cell_type": "markdown",
   "metadata": {},
   "source": [
    "# References\n",
    "<p>https://docs.oracle.com/cd/E40248_01/epm.1112/cb_statistical/frameset.htm?ch07s02s10s01.html</p>"
   ]
  }
 ],
 "metadata": {
  "kernelspec": {
   "display_name": "Python 3.10.2 64-bit",
   "language": "python",
   "name": "python3"
  },
  "language_info": {
   "codemirror_mode": {
    "name": "ipython",
    "version": 3
   },
   "file_extension": ".py",
   "mimetype": "text/x-python",
   "name": "python",
   "nbconvert_exporter": "python",
   "pygments_lexer": "ipython3",
   "version": "3.10.2"
  },
  "orig_nbformat": 4,
  "vscode": {
   "interpreter": {
    "hash": "92ea70cb9331c87a6e87e6ba829f55a3cff66e051583a0c31932cac77bd3dc7a"
   }
  }
 },
 "nbformat": 4,
 "nbformat_minor": 2
}
